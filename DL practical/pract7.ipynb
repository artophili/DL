{
 "cells": [
  {
   "cell_type": "code",
   "execution_count": null,
   "id": "5ff3bab6",
   "metadata": {},
   "outputs": [],
   "source": [
    "'''\n",
    "Aim: Explore applications in speech recognition and natural language\n",
    "processing.\n",
    "'''"
   ]
  },
  {
   "cell_type": "code",
   "execution_count": 6,
   "id": "f53a10ee",
   "metadata": {},
   "outputs": [
    {
     "name": "stderr",
     "output_type": "stream",
     "text": [
      "[nltk_data] Downloading package punkt to\n",
      "[nltk_data]     C:\\Users\\Artophilic\\AppData\\Roaming\\nltk_data...\n",
      "[nltk_data]   Package punkt is already up-to-date!\n",
      "[nltk_data] Downloading package punkt_tab to\n",
      "[nltk_data]     C:\\Users\\Artophilic\\AppData\\Roaming\\nltk_data...\n",
      "[nltk_data]   Package punkt_tab is already up-to-date!\n"
     ]
    },
    {
     "name": "stdout",
     "output_type": "stream",
     "text": [
      "\n",
      "Tokenized Sentences:\n",
      "Sentence 1: Product is amazing\n",
      "\n",
      "Tokenized Words:\n",
      "['Product', 'is', 'amazing']\n",
      "\n",
      "Sentiment: Positive 😊\n"
     ]
    }
   ],
   "source": [
    "import nltk # Importing the Natural Language Toolkit (NLTK) for text processing\n",
    "from nltk.tokenize import word_tokenize, sent_tokenize # Importing tokenization functions\n",
    "from textblob import TextBlob # Importing TextBlob for sentiment analysis\n",
    "\n",
    "# Download 'punkt' resource if not already present\n",
    "nltk.download('punkt')\n",
    "nltk.download('punkt_tab')\n",
    "\n",
    "def get_text_input():\n",
    "    \"\"\"\n",
    "    Function to get text input from the user.\n",
    "    Instead of using speech recognition, it takes direct text input.\n",
    "    \"\"\"\n",
    "    text = input(\"Enter your text: \") # Prompt user for input\n",
    "    return text # Return the entered text\n",
    "\n",
    "def process_text(text):\n",
    "    \"\"\"\n",
    "    Function to tokenize the given text into sentences and words.\n",
    "    \"\"\"\n",
    "    # Sentence Tokenization\n",
    "    print(\"\\nTokenized Sentences:\")\n",
    "    sentences = sent_tokenize(text, language=\"english\") # Splitting text into sentences\n",
    "    for i, sent in enumerate(sentences, 1): # Iterating over sentences\n",
    "        print(f\"Sentence {i}: {sent}\") # Displaying each sentence\n",
    "        # Word Tokenization\n",
    "    print(\"\\nTokenized Words:\")\n",
    "    words = word_tokenize(text, language=\"english\") # Splitting text into words\n",
    "    print(words) # Displaying list of words\n",
    "\n",
    "def sentiment_analysis(text):\n",
    "    \"\"\"\n",
    "    Function to analyze sentiment of the text.\n",
    "    Uses TextBlob to calculate sentiment polarity.\n",
    "    \"\"\"\n",
    "    blob = TextBlob(text) # Creating a TextBlob object for sentiment analysis\n",
    "    sentiment = blob.sentiment.polarity # Extracting sentiment polarity score (-1 to 1)\n",
    "    # Classifying sentiment based on polarity score\n",
    "    if sentiment > 0:\n",
    "        print(\"\\nSentiment: Positive 😊\") # Positive sentiment if polarity > 0\n",
    "    elif sentiment < 0:\n",
    "        print(\"\\nSentiment: Negative 😞\") # Negative sentiment if polarity < 0\n",
    "    else:\n",
    "        print(\"\\nSentiment: Neutral 😐\") # Neutral sentiment if polarity == 0\n",
    "\n",
    "# Main execution block\n",
    "if __name__ == \"__main__\":\n",
    "    user_text = get_text_input() # Get input text from user\n",
    "    if user_text: # Check if input is not empty\n",
    "        process_text(user_text) # Tokenize text into sentences and words\n",
    "        sentiment_analysis(user_text) # Perform sentiment analysis"
   ]
  },
  {
   "cell_type": "code",
   "execution_count": null,
   "id": "c4c45ba8",
   "metadata": {},
   "outputs": [],
   "source": []
  }
 ],
 "metadata": {
  "kernelspec": {
   "display_name": "practvenv",
   "language": "python",
   "name": "python3"
  },
  "language_info": {
   "codemirror_mode": {
    "name": "ipython",
    "version": 3
   },
   "file_extension": ".py",
   "mimetype": "text/x-python",
   "name": "python",
   "nbconvert_exporter": "python",
   "pygments_lexer": "ipython3",
   "version": "3.12.8"
  }
 },
 "nbformat": 4,
 "nbformat_minor": 5
}
